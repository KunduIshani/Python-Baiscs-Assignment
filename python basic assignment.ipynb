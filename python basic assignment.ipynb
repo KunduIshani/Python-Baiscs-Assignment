{
 "cells": [
  {
   "cell_type": "markdown",
   "id": "ed16bcf3-ae59-4403-b48b-9f6c68770075",
   "metadata": {},
   "source": [
    "#Assignment : Python Baiscs Assignment"
   ]
  },
  {
   "cell_type": "markdown",
   "id": "52b816d3-563c-406c-b851-3f53408f20c3",
   "metadata": {},
   "source": [
    "## Q.1: Explain the key features of Python that make it a popular choice for programming."
   ]
  },
  {
   "cell_type": "code",
   "execution_count": 8,
   "id": "d57a9cb9-682d-45ee-9fce-856f1afc5680",
   "metadata": {},
   "outputs": [],
   "source": [
    "# The key features of python are:\n",
    "#     1. Ease of Learning- easy to learn.\n",
    "#     2. Versatility - has huge usage for example: web development,data analytics, data scientist, etc.\n",
    "#     3. Readability and Simplicity.\n",
    "#     4. widely used in the industry.\n",
    "#     5. Python has lots of Libraries(137000 LIBRARIES)\n",
    "#     6. Huge active community.\n",
    "# these useful features makes python a popular choice for programming."
   ]
  },
  {
   "cell_type": "markdown",
   "id": "ceee2ce9-c740-44f7-bd3f-c01fba1757e6",
   "metadata": {},
   "source": [
    "## Q.2: Describe the role of predefined keywords in Python and provide examples of how they are used in a program."
   ]
  },
  {
   "cell_type": "code",
   "execution_count": 10,
   "id": "7c10aaa4-9885-46b6-be8f-e234e76097ee",
   "metadata": {},
   "outputs": [],
   "source": [
    "# Predefined keywords:are predefined words that hold a special meaning and have specific purpose. \n",
    "# for example: print, type.\n",
    "\n",
    "# variables\\indentifiers = variables are placeholders where we keep varity of data which we use to write logic.variable is a areserved memory space for storing value. (variable cannot be a keyword), (it starts with a letter(alphabet) or underscore character.)\n",
    "# types of variables:\n",
    "# numbers>> integers\\ float\n",
    "# characters >> string in python\n",
    "# True\\False >> boolean\n",
    "# none\n",
    "# complex"
   ]
  },
  {
   "cell_type": "code",
   "execution_count": 1,
   "id": "ca8209d8-7475-4985-9399-a85326f58c0f",
   "metadata": {},
   "outputs": [
    {
     "name": "stdout",
     "output_type": "stream",
     "text": [
      "hello world\n"
     ]
    }
   ],
   "source": [
    "#few examples are as follows:\n",
    "print(\"hello world\")"
   ]
  },
  {
   "cell_type": "code",
   "execution_count": 2,
   "id": "0f482c32-0c07-4397-ac50-75fb1be3e88b",
   "metadata": {},
   "outputs": [
    {
     "data": {
      "text/plain": [
       "3"
      ]
     },
     "execution_count": 2,
     "metadata": {},
     "output_type": "execute_result"
    }
   ],
   "source": [
    "a = 3\n",
    "a"
   ]
  },
  {
   "cell_type": "code",
   "execution_count": 3,
   "id": "310d9016-bebf-498a-b180-ed637737c932",
   "metadata": {},
   "outputs": [
    {
     "data": {
      "text/plain": [
       "int"
      ]
     },
     "execution_count": 3,
     "metadata": {},
     "output_type": "execute_result"
    }
   ],
   "source": [
    "type(a)"
   ]
  },
  {
   "cell_type": "code",
   "execution_count": 4,
   "id": "b79f5e4c-c76e-44a1-b4c3-3d03a9d0a0e6",
   "metadata": {},
   "outputs": [
    {
     "data": {
      "text/plain": [
       "5.5"
      ]
     },
     "execution_count": 4,
     "metadata": {},
     "output_type": "execute_result"
    }
   ],
   "source": [
    "b = 5.5\n",
    "b"
   ]
  },
  {
   "cell_type": "code",
   "execution_count": 5,
   "id": "4496ecd4-f251-4399-aa3a-a5f8d5f2d5aa",
   "metadata": {},
   "outputs": [
    {
     "data": {
      "text/plain": [
       "float"
      ]
     },
     "execution_count": 5,
     "metadata": {},
     "output_type": "execute_result"
    }
   ],
   "source": [
    "type(b)"
   ]
  },
  {
   "cell_type": "code",
   "execution_count": 6,
   "id": "055ce44b-4e82-4597-8025-41df13aa072b",
   "metadata": {},
   "outputs": [
    {
     "data": {
      "text/plain": [
       "'ishani'"
      ]
     },
     "execution_count": 6,
     "metadata": {},
     "output_type": "execute_result"
    }
   ],
   "source": [
    "c = \"ishani\"\n",
    "c"
   ]
  },
  {
   "cell_type": "code",
   "execution_count": 7,
   "id": "c08f7309-4bce-4b12-8ab0-e79ed3ec8638",
   "metadata": {},
   "outputs": [
    {
     "data": {
      "text/plain": [
       "str"
      ]
     },
     "execution_count": 7,
     "metadata": {},
     "output_type": "execute_result"
    }
   ],
   "source": [
    "type(c)"
   ]
  },
  {
   "cell_type": "code",
   "execution_count": 9,
   "id": "ef8c0ed5-6b0d-421f-a45a-ae4d289822b2",
   "metadata": {},
   "outputs": [
    {
     "data": {
      "text/plain": [
       "True"
      ]
     },
     "execution_count": 9,
     "metadata": {},
     "output_type": "execute_result"
    }
   ],
   "source": [
    "bool(1)"
   ]
  },
  {
   "cell_type": "code",
   "execution_count": 10,
   "id": "c4ff8260-82e7-4bef-a522-11eb42ce505f",
   "metadata": {},
   "outputs": [
    {
     "data": {
      "text/plain": [
       "False"
      ]
     },
     "execution_count": 10,
     "metadata": {},
     "output_type": "execute_result"
    }
   ],
   "source": [
    "bool(0)"
   ]
  },
  {
   "cell_type": "code",
   "execution_count": 11,
   "id": "3f399555-bf44-4f06-86e6-221c7e1a4f76",
   "metadata": {},
   "outputs": [
    {
     "data": {
      "text/plain": [
       "1"
      ]
     },
     "execution_count": 11,
     "metadata": {},
     "output_type": "execute_result"
    }
   ],
   "source": [
    "True - False"
   ]
  },
  {
   "cell_type": "code",
   "execution_count": 12,
   "id": "6d9972cb-1005-4fd2-b290-4d93ea6dc1e2",
   "metadata": {},
   "outputs": [
    {
     "data": {
      "text/plain": [
       "-1"
      ]
     },
     "execution_count": 12,
     "metadata": {},
     "output_type": "execute_result"
    }
   ],
   "source": [
    "False - True"
   ]
  },
  {
   "cell_type": "code",
   "execution_count": 16,
   "id": "e5a2f83b-a9c0-4319-b50f-6d7492f3f0e5",
   "metadata": {},
   "outputs": [],
   "source": [
    "d = \"\""
   ]
  },
  {
   "cell_type": "code",
   "execution_count": 19,
   "id": "71070bf8-93e5-4ce5-b09c-5bf9f8c49878",
   "metadata": {},
   "outputs": [
    {
     "data": {
      "text/plain": [
       "complex"
      ]
     },
     "execution_count": 19,
     "metadata": {},
     "output_type": "execute_result"
    }
   ],
   "source": [
    "com = 5 + 6j\n",
    "type(com)"
   ]
  },
  {
   "cell_type": "code",
   "execution_count": 17,
   "id": "2518a80c-0d56-4a60-a7f9-48b7b021a7b4",
   "metadata": {},
   "outputs": [
    {
     "name": "stdout",
     "output_type": "stream",
     "text": [
      "\n",
      "Here is a list of the Python keywords.  Enter any keyword to get more help.\n",
      "\n",
      "False               class               from                or\n",
      "None                continue            global              pass\n",
      "True                def                 if                  raise\n",
      "and                 del                 import              return\n",
      "as                  elif                in                  try\n",
      "assert              else                is                  while\n",
      "async               except              lambda              with\n",
      "await               finally             nonlocal            yield\n",
      "break               for                 not                 \n",
      "\n"
     ]
    }
   ],
   "source": [
    "help(\"keywords\")"
   ]
  },
  {
   "cell_type": "markdown",
   "id": "2732b7fd-f39b-4ff8-9935-fad833db2abe",
   "metadata": {},
   "source": [
    "## Q.3 Compare and contrast mutable and immutable objects in Python with examples."
   ]
  },
  {
   "cell_type": "code",
   "execution_count": 12,
   "id": "9a70e336-18d2-4d13-b08d-443200016ce4",
   "metadata": {},
   "outputs": [],
   "source": [
    "# Mutability = changability \n",
    "# objects\\container whose state or value can be changed after they are created are called as mutable objects or container.\n",
    "# for example : lists, Dictionaries, sets.\n",
    "\n",
    "# Immutability = cannot be changed\n",
    "# objects\\container whose state or value cannot be changed after they are created are called as immutable objects or container.\n",
    "# or example : strings , tuples."
   ]
  },
  {
   "cell_type": "markdown",
   "id": "4057f296-e253-4b6c-b5b9-f4be8a813ffe",
   "metadata": {},
   "source": [
    "## Q.4 Discuss the different types of operators in Python and provide examples of how they are used."
   ]
  },
  {
   "cell_type": "code",
   "execution_count": 14,
   "id": "95215cc3-3a05-42cc-859a-51889dfeed7d",
   "metadata": {},
   "outputs": [],
   "source": [
    "# Python operators: are special keywords\\ symbols that are used to perform operations on values or variables to manage and compute data.\n",
    "# Types of operators are:\n",
    "# 1. Arithmatic operators.\n",
    "# 2. comparison operators.\n",
    "# 3. Logical operators.\n",
    "# 4. Bitwise operators.\n",
    "# 5. Assignment operators.\n",
    "# 6. Membership operators.\n",
    "# 7. Identity operators.\n"
   ]
  },
  {
   "cell_type": "code",
   "execution_count": 20,
   "id": "e20a6d91-0603-4c68-b267-c5baf2e105b0",
   "metadata": {},
   "outputs": [
    {
     "data": {
      "text/plain": [
       "5"
      ]
     },
     "execution_count": 20,
     "metadata": {},
     "output_type": "execute_result"
    }
   ],
   "source": [
    "1. # Arithmatic operators.\n",
    "2 + 3 "
   ]
  },
  {
   "cell_type": "code",
   "execution_count": 22,
   "id": "59e7e904-387a-4abd-b84f-cd38e41612ab",
   "metadata": {},
   "outputs": [
    {
     "data": {
      "text/plain": [
       "34"
      ]
     },
     "execution_count": 22,
     "metadata": {},
     "output_type": "execute_result"
    }
   ],
   "source": [
    "2+ 4 * 8 "
   ]
  },
  {
   "cell_type": "code",
   "execution_count": 23,
   "id": "783bc3a6-4f9b-4ae4-b624-c28820b49bda",
   "metadata": {},
   "outputs": [
    {
     "data": {
      "text/plain": [
       "1"
      ]
     },
     "execution_count": 23,
     "metadata": {},
     "output_type": "execute_result"
    }
   ],
   "source": [
    "# modulus operators >> reminder\n",
    "26 % 5"
   ]
  },
  {
   "cell_type": "code",
   "execution_count": 26,
   "id": "31f87dcc-0484-4e5e-a0ed-3fb69e974b32",
   "metadata": {},
   "outputs": [
    {
     "data": {
      "text/plain": [
       "1"
      ]
     },
     "execution_count": 26,
     "metadata": {},
     "output_type": "execute_result"
    }
   ],
   "source": [
    "#floor operator\n",
    "6 // 5"
   ]
  },
  {
   "cell_type": "code",
   "execution_count": 27,
   "id": "f4ee68e8-f57b-4915-b45a-a23929159f4c",
   "metadata": {},
   "outputs": [
    {
     "data": {
      "text/plain": [
       "True"
      ]
     },
     "execution_count": 27,
     "metadata": {},
     "output_type": "execute_result"
    }
   ],
   "source": [
    "2. # comparison operators >> compares two value >> returns a boolen value\n",
    "2 == 2"
   ]
  },
  {
   "cell_type": "code",
   "execution_count": 28,
   "id": "fdfc1b91-1467-4e88-bd5b-421ba21f4083",
   "metadata": {},
   "outputs": [
    {
     "data": {
      "text/plain": [
       "True"
      ]
     },
     "execution_count": 28,
     "metadata": {},
     "output_type": "execute_result"
    }
   ],
   "source": [
    "10>2"
   ]
  },
  {
   "cell_type": "code",
   "execution_count": 29,
   "id": "970a1838-545d-4f86-b1cf-02bda6d9f2ea",
   "metadata": {},
   "outputs": [
    {
     "data": {
      "text/plain": [
       "False"
      ]
     },
     "execution_count": 29,
     "metadata": {},
     "output_type": "execute_result"
    }
   ],
   "source": [
    "100<10"
   ]
  },
  {
   "cell_type": "code",
   "execution_count": 30,
   "id": "b6948919-d169-4d69-974c-e7638ad68492",
   "metadata": {},
   "outputs": [
    {
     "data": {
      "text/plain": [
       "True"
      ]
     },
     "execution_count": 30,
     "metadata": {},
     "output_type": "execute_result"
    }
   ],
   "source": [
    "100 != 10"
   ]
  },
  {
   "cell_type": "code",
   "execution_count": 31,
   "id": "047d6498-fdb6-406b-8492-b7aea9584c03",
   "metadata": {},
   "outputs": [
    {
     "data": {
      "text/plain": [
       "False"
      ]
     },
     "execution_count": 31,
     "metadata": {},
     "output_type": "execute_result"
    }
   ],
   "source": [
    "100 != 100"
   ]
  },
  {
   "cell_type": "code",
   "execution_count": 16,
   "id": "d81f6504-b44f-4822-9d5e-d0b0cecff26f",
   "metadata": {},
   "outputs": [],
   "source": [
    "# 3. Logical operator\n",
    "# # and\n",
    "# # or"
   ]
  },
  {
   "cell_type": "code",
   "execution_count": 18,
   "id": "268142e2-3b8e-492f-b182-56d37d966735",
   "metadata": {},
   "outputs": [],
   "source": [
    "# AND \n",
    "# T AND T = T\n",
    "# T AND F = F\n",
    "# F AND T = F\n",
    "# F AND F = F\n",
    "\n",
    "# OR\n",
    "# T OR T = T\n",
    "# T OR F = T\n",
    "# F OR T = T\n",
    "# F OR F = F"
   ]
  },
  {
   "cell_type": "code",
   "execution_count": 34,
   "id": "18df4511-90cf-4ec0-877f-35cfa20da7ca",
   "metadata": {},
   "outputs": [
    {
     "data": {
      "text/plain": [
       "10"
      ]
     },
     "execution_count": 34,
     "metadata": {},
     "output_type": "execute_result"
    }
   ],
   "source": [
    "4 #Assignment operators.\n",
    "a = 10\n",
    "a"
   ]
  },
  {
   "cell_type": "code",
   "execution_count": 35,
   "id": "65208031-f934-4970-bf55-eb2c03cdf7e1",
   "metadata": {},
   "outputs": [
    {
     "data": {
      "text/plain": [
       "16"
      ]
     },
     "execution_count": 35,
     "metadata": {},
     "output_type": "execute_result"
    }
   ],
   "source": [
    "b = 12\n",
    "b = b + 4\n",
    "b"
   ]
  },
  {
   "cell_type": "code",
   "execution_count": 39,
   "id": "f17d67d1-25f8-4486-b6f7-acdf06079d08",
   "metadata": {},
   "outputs": [
    {
     "data": {
      "text/plain": [
       "True"
      ]
     },
     "execution_count": 39,
     "metadata": {},
     "output_type": "execute_result"
    }
   ],
   "source": [
    "5. #Membership operator\n",
    "a = \"pwskills\"\n",
    "\"p\" in a"
   ]
  },
  {
   "cell_type": "code",
   "execution_count": 40,
   "id": "138df24f-bf55-41ef-85b7-ec2309b4cb08",
   "metadata": {},
   "outputs": [
    {
     "data": {
      "text/plain": [
       "False"
      ]
     },
     "execution_count": 40,
     "metadata": {},
     "output_type": "execute_result"
    }
   ],
   "source": [
    "a = \"pwskills\"\n",
    "\"m\" in a "
   ]
  },
  {
   "cell_type": "code",
   "execution_count": 41,
   "id": "d4bea3f4-1622-480a-bd75-1489c2ead643",
   "metadata": {},
   "outputs": [
    {
     "data": {
      "text/plain": [
       "False"
      ]
     },
     "execution_count": 41,
     "metadata": {},
     "output_type": "execute_result"
    }
   ],
   "source": [
    "6. #Membership operator >> compares the location of two objects\\ variable.\n",
    "a = 2\n",
    "b = 5\n",
    "a is b"
   ]
  },
  {
   "cell_type": "code",
   "execution_count": 42,
   "id": "ec0f589f-a179-4911-8731-25011afd079b",
   "metadata": {},
   "outputs": [
    {
     "data": {
      "text/plain": [
       "True"
      ]
     },
     "execution_count": 42,
     "metadata": {},
     "output_type": "execute_result"
    }
   ],
   "source": [
    "a = 2\n",
    "b = 5\n",
    "a is not b"
   ]
  },
  {
   "cell_type": "code",
   "execution_count": 40,
   "id": "362bdeef-faef-4c91-bcdf-351661d011d8",
   "metadata": {},
   "outputs": [],
   "source": [
    "# 7. Bitwise operator >> operations at bit level, manipulating individuals bits within integer."
   ]
  },
  {
   "cell_type": "code",
   "execution_count": 46,
   "id": "1df2b75a-f88a-4fa5-9219-eb6985ab2b00",
   "metadata": {},
   "outputs": [
    {
     "data": {
      "text/plain": [
       "'0b1111101000'"
      ]
     },
     "execution_count": 46,
     "metadata": {},
     "output_type": "execute_result"
    }
   ],
   "source": [
    "bin(1000)"
   ]
  },
  {
   "cell_type": "code",
   "execution_count": 47,
   "id": "4c7c8781-86e0-4cfa-bdcc-92af04ffa11f",
   "metadata": {},
   "outputs": [
    {
     "data": {
      "text/plain": [
       "'-0b100'"
      ]
     },
     "execution_count": 47,
     "metadata": {},
     "output_type": "execute_result"
    }
   ],
   "source": [
    "bin(~3)"
   ]
  },
  {
   "cell_type": "code",
   "execution_count": 48,
   "id": "941112d2-aa36-4dba-ad63-b83326b90a65",
   "metadata": {},
   "outputs": [
    {
     "data": {
      "text/plain": [
       "3"
      ]
     },
     "execution_count": 48,
     "metadata": {},
     "output_type": "execute_result"
    }
   ],
   "source": [
    "5^6"
   ]
  },
  {
   "cell_type": "markdown",
   "id": "0f8d4c5d-de4c-4700-81fa-e4293c029029",
   "metadata": {},
   "source": [
    "## Q.5 Explain the concept of type casting in Python with examples."
   ]
  },
  {
   "cell_type": "code",
   "execution_count": 20,
   "id": "9f6cd49b-fb97-4883-b9f6-97a905270f79",
   "metadata": {},
   "outputs": [],
   "source": [
    "# Type casting \\ type conversion >> The process of changing the data type of a value\\ object.\n",
    "# while executive\\computation using operators, there can be mismatch between the data types.\n",
    "# for example: "
   ]
  },
  {
   "cell_type": "code",
   "execution_count": 49,
   "id": "5e23219c-2877-4a7a-8c8e-f1b2dd66b30a",
   "metadata": {},
   "outputs": [
    {
     "ename": "TypeError",
     "evalue": "can only concatenate str (not \"int\") to str",
     "output_type": "error",
     "traceback": [
      "\u001b[0;31m---------------------------------------------------------------------------\u001b[0m",
      "\u001b[0;31mTypeError\u001b[0m                                 Traceback (most recent call last)",
      "Cell \u001b[0;32mIn[49], line 3\u001b[0m\n\u001b[1;32m      1\u001b[0m a \u001b[38;5;241m=\u001b[39m \u001b[38;5;124m\"\u001b[39m\u001b[38;5;124m2\u001b[39m\u001b[38;5;124m\"\u001b[39m\n\u001b[1;32m      2\u001b[0m b \u001b[38;5;241m=\u001b[39m \u001b[38;5;241m3\u001b[39m\n\u001b[0;32m----> 3\u001b[0m \u001b[43ma\u001b[49m\u001b[38;5;241;43m+\u001b[39;49m\u001b[43m \u001b[49m\u001b[43mb\u001b[49m\n",
      "\u001b[0;31mTypeError\u001b[0m: can only concatenate str (not \"int\") to str"
     ]
    }
   ],
   "source": [
    "a = \"2\"\n",
    "b = 3\n",
    "a + b"
   ]
  },
  {
   "cell_type": "code",
   "execution_count": 22,
   "id": "f778734c-d208-4239-a3ec-d3087232676c",
   "metadata": {},
   "outputs": [],
   "source": [
    "# 2 types of typcasting:\n",
    "# Implicit Typecasting.\n",
    "# Explicit Typecasting."
   ]
  },
  {
   "cell_type": "code",
   "execution_count": 50,
   "id": "adb8e9c9-0e3c-4cdb-afe0-ab5d59b32c5d",
   "metadata": {},
   "outputs": [
    {
     "data": {
      "text/plain": [
       "'ishanikundu'"
      ]
     },
     "execution_count": 50,
     "metadata": {},
     "output_type": "execute_result"
    }
   ],
   "source": [
    "# concetenation \n",
    "a = \"ishani\"\n",
    "b = \"kundu\"\n",
    "a + b"
   ]
  },
  {
   "cell_type": "code",
   "execution_count": 51,
   "id": "085aaeb0-1874-4c5a-b085-0af0266d85e8",
   "metadata": {},
   "outputs": [],
   "source": [
    "# In bool every value execpt 0 is true."
   ]
  },
  {
   "cell_type": "code",
   "execution_count": 52,
   "id": "82c5d2fd-fd19-4c0d-8248-03efd237a8f2",
   "metadata": {},
   "outputs": [
    {
     "data": {
      "text/plain": [
       "True"
      ]
     },
     "execution_count": 52,
     "metadata": {},
     "output_type": "execute_result"
    }
   ],
   "source": [
    "bool(1)"
   ]
  },
  {
   "cell_type": "code",
   "execution_count": 53,
   "id": "dd237caa-3ba4-4ab9-88b4-30bf131253bc",
   "metadata": {},
   "outputs": [
    {
     "data": {
      "text/plain": [
       "False"
      ]
     },
     "execution_count": 53,
     "metadata": {},
     "output_type": "execute_result"
    }
   ],
   "source": [
    "bool()"
   ]
  },
  {
   "cell_type": "code",
   "execution_count": 54,
   "id": "da4e99cb-32e6-4379-9471-1d1ef2de518a",
   "metadata": {},
   "outputs": [
    {
     "data": {
      "text/plain": [
       "True"
      ]
     },
     "execution_count": 54,
     "metadata": {},
     "output_type": "execute_result"
    }
   ],
   "source": [
    "bool(\"0\")"
   ]
  },
  {
   "cell_type": "code",
   "execution_count": 55,
   "id": "33b6b0bc-3cac-458c-b18e-1bef2d63e92d",
   "metadata": {},
   "outputs": [
    {
     "data": {
      "text/plain": [
       "True"
      ]
     },
     "execution_count": 55,
     "metadata": {},
     "output_type": "execute_result"
    }
   ],
   "source": [
    "bool(\"-5\")"
   ]
  },
  {
   "cell_type": "markdown",
   "id": "a4a2bfc8-a474-47d6-88d8-ebc8263c38b1",
   "metadata": {},
   "source": [
    "## Q. 6 How do conditional statements work in Python? Illustrate with examples."
   ]
  },
  {
   "cell_type": "code",
   "execution_count": 24,
   "id": "e2809be3-b4b9-4218-ba43-e1ede9d643de",
   "metadata": {},
   "outputs": [],
   "source": [
    "# conditional statement >> helps you to code decisions based on some preconditions.\n",
    "# #if\n",
    "# #if-else\n",
    "# #if-elif-else\n",
    "# #nested if-else"
   ]
  },
  {
   "cell_type": "code",
   "execution_count": 26,
   "id": "6c679a21-5982-4b86-8d4f-ee85ccadc025",
   "metadata": {},
   "outputs": [],
   "source": [
    "# if condition\\statement:"
   ]
  },
  {
   "cell_type": "code",
   "execution_count": 59,
   "id": "0c8ae094-fb87-417e-b7cb-dccc5b02c2fb",
   "metadata": {},
   "outputs": [
    {
     "name": "stdout",
     "output_type": "stream",
     "text": [
      "The number is greater than 0\n"
     ]
    }
   ],
   "source": [
    "a = 100\n",
    "if a > 0:\n",
    "    print(\"The number is greater than 0\")"
   ]
  },
  {
   "cell_type": "code",
   "execution_count": 28,
   "id": "475e4665-4963-4f72-8c11-30186245021a",
   "metadata": {},
   "outputs": [],
   "source": [
    "# if- else condition:"
   ]
  },
  {
   "cell_type": "code",
   "execution_count": 61,
   "id": "2daf4e7b-d6a9-4df3-af15-fadc73f55f28",
   "metadata": {},
   "outputs": [
    {
     "name": "stdout",
     "output_type": "stream",
     "text": [
      "I will go out to watch a movie\n"
     ]
    }
   ],
   "source": [
    "weather = \"sunny\"\n",
    "if weather == \"sunny\":\n",
    "    print(\"I will go out to watch a movie\")\n",
    "else:\n",
    "    print(\"I will stay at home and watch TV\")"
   ]
  },
  {
   "cell_type": "code",
   "execution_count": 30,
   "id": "428f344e-39e7-4382-a951-61fee9a63582",
   "metadata": {},
   "outputs": [],
   "source": [
    "# if-elif-else condition:"
   ]
  },
  {
   "cell_type": "code",
   "execution_count": 62,
   "id": "09535757-d1e2-4fe1-baf8-0bddd7410bbe",
   "metadata": {},
   "outputs": [
    {
     "name": "stdout",
     "output_type": "stream",
     "text": [
      "the number is equals to 100\n"
     ]
    }
   ],
   "source": [
    "a = 100\n",
    "if a > 100:\n",
    "    print(\"This block will be executed if a is greater than 100\")\n",
    "elif a < 100:\n",
    "    print(\"This block will be executed if a is lesser than 100\")\n",
    "else:\n",
    "    print(\"the number is equals to 100\")"
   ]
  },
  {
   "cell_type": "code",
   "execution_count": 32,
   "id": "18b3c081-3380-4044-b625-d6e26d81453b",
   "metadata": {},
   "outputs": [],
   "source": [
    "#nested if-else condition:"
   ]
  },
  {
   "cell_type": "code",
   "execution_count": 65,
   "id": "a8eadb22-0cf5-4d78-af23-f0ed780b17ca",
   "metadata": {},
   "outputs": [
    {
     "name": "stdout",
     "output_type": "stream",
     "text": [
      "x is not greater than 5\n"
     ]
    }
   ],
   "source": [
    "x = 1\n",
    "y = 6\n",
    "if x >5:\n",
    "    if y > 5:\n",
    "        print(\" Both x and y are greater than 5\")\n",
    "    else:\n",
    "        print(\"x is greater than y but y is less than 5\")\n",
    "else:\n",
    "        print (\"x is not greater than 5\")"
   ]
  },
  {
   "cell_type": "markdown",
   "id": "3dfa3067-1682-4480-896b-71a29fa75ff3",
   "metadata": {},
   "source": [
    "## Q. 7 Describe the different types of loops in Python and their use cases with examples."
   ]
  },
  {
   "cell_type": "code",
   "execution_count": 34,
   "id": "fadb61c6-fb52-4d21-811f-777e2f00e20b",
   "metadata": {},
   "outputs": [],
   "source": [
    "# Loop statement = it allows us to execute a block of code repeatedly.\n",
    "# 2 types of loops are: while loop and for loops.\n",
    "# wwhile loop >> repeatedly execute a block of code untill a condition is meet."
   ]
  },
  {
   "cell_type": "code",
   "execution_count": 66,
   "id": "0f04ef6d-e36c-4772-a882-0be86339f6bf",
   "metadata": {},
   "outputs": [
    {
     "name": "stdout",
     "output_type": "stream",
     "text": [
      "1\n",
      "2\n",
      "3\n",
      "4\n",
      "5\n",
      "6\n"
     ]
    }
   ],
   "source": [
    "n = 7\n",
    "i = 1\n",
    "while i < n:\n",
    "    print(i)\n",
    "    i = i +1"
   ]
  },
  {
   "cell_type": "code",
   "execution_count": 36,
   "id": "556f1b34-5158-4737-9330-919412684ef9",
   "metadata": {},
   "outputs": [],
   "source": [
    "# break terminates\\ exits the loop:"
   ]
  },
  {
   "cell_type": "code",
   "execution_count": 67,
   "id": "f9d799cc-b6c0-49be-9936-b393bdf97b8a",
   "metadata": {},
   "outputs": [
    {
     "name": "stdout",
     "output_type": "stream",
     "text": [
      "1\n",
      "2\n"
     ]
    }
   ],
   "source": [
    "n = 7\n",
    "i = 1\n",
    "while i < n:\n",
    "    print(i)\n",
    "    i = i +1\n",
    "    if i ==3:\n",
    "        break"
   ]
  },
  {
   "cell_type": "code",
   "execution_count": 38,
   "id": "a9e258c9-00b9-4f4e-99b3-618ba4bdfc06",
   "metadata": {},
   "outputs": [],
   "source": [
    "# continue \\ skip the iteration loop:"
   ]
  },
  {
   "cell_type": "code",
   "execution_count": 68,
   "id": "b221dcd2-ff69-4eea-921f-6ee13d8364a9",
   "metadata": {},
   "outputs": [
    {
     "name": "stdout",
     "output_type": "stream",
     "text": [
      "2\n",
      "4\n",
      "5\n",
      "6\n",
      "7\n"
     ]
    }
   ],
   "source": [
    "n = 7\n",
    "i = 1\n",
    "while i < n:\n",
    "    i = i + 1\n",
    "    if i ==3:\n",
    "        continue\n",
    "    print(i)"
   ]
  },
  {
   "cell_type": "code",
   "execution_count": null,
   "id": "585c1401-6c9d-4c85-ad6b-a3d95abd2751",
   "metadata": {},
   "outputs": [],
   "source": [
    "#for loop >> iterate over a sequence of elements."
   ]
  },
  {
   "cell_type": "code",
   "execution_count": 69,
   "id": "38669c72-8456-4ec2-b9dc-e2ac94e77905",
   "metadata": {},
   "outputs": [
    {
     "name": "stdout",
     "output_type": "stream",
     "text": [
      "i\n",
      "s\n",
      "h\n",
      "a\n",
      "n\n",
      "i\n",
      "k\n",
      "u\n",
      "n\n",
      "d\n",
      "u\n"
     ]
    }
   ],
   "source": [
    "for i in \"ishanikundu\":\n",
    "    print(i)"
   ]
  },
  {
   "cell_type": "code",
   "execution_count": 70,
   "id": "71c03bbd-511c-4af3-9536-c0c7371b8210",
   "metadata": {},
   "outputs": [
    {
     "name": "stdout",
     "output_type": "stream",
     "text": [
      "1\n",
      "2\n",
      "3\n",
      "sun\n",
      "moon\n"
     ]
    }
   ],
   "source": [
    "l = [1,2,3,\"sun\",\"moon\"]\n",
    "for i in l:\n",
    "    print(i)"
   ]
  },
  {
   "cell_type": "code",
   "execution_count": 71,
   "id": "e38f19d8-54d9-4e45-9747-6ee90b8c104d",
   "metadata": {},
   "outputs": [
    {
     "name": "stdout",
     "output_type": "stream",
     "text": [
      "1\n",
      "2\n",
      "3\n",
      "sun\n",
      "moon\n",
      "this is the sun\n"
     ]
    }
   ],
   "source": [
    "l = [1,2,3,\"sun\",\"moon\"]\n",
    "for i in l:\n",
    "    print(i)\n",
    "else:\n",
    "    print(\"this is the sun\")"
   ]
  },
  {
   "cell_type": "code",
   "execution_count": 72,
   "id": "c5c54b0e-5b43-46db-8ec1-ff958b01889e",
   "metadata": {},
   "outputs": [],
   "source": [
    "#break statement i for loop:"
   ]
  },
  {
   "cell_type": "code",
   "execution_count": 76,
   "id": "8a16f0d6-30a1-4b51-9675-b395492e7899",
   "metadata": {},
   "outputs": [],
   "source": [
    "l = [1,2,3,\"sun\",\"moon\"]\n",
    "for i in l:\n",
    "    if i == \"sun\":\n",
    "        break\n",
    "        print (i)\n",
    "    "
   ]
  },
  {
   "cell_type": "code",
   "execution_count": null,
   "id": "9bd14753-57e0-4ee9-aa6f-49a376de1b99",
   "metadata": {},
   "outputs": [],
   "source": []
  }
 ],
 "metadata": {
  "kernelspec": {
   "display_name": "Python 3 (ipykernel)",
   "language": "python",
   "name": "python3"
  },
  "language_info": {
   "codemirror_mode": {
    "name": "ipython",
    "version": 3
   },
   "file_extension": ".py",
   "mimetype": "text/x-python",
   "name": "python",
   "nbconvert_exporter": "python",
   "pygments_lexer": "ipython3",
   "version": "3.12.4"
  }
 },
 "nbformat": 4,
 "nbformat_minor": 5
}
